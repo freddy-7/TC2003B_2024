{
 "cells": [
  {
   "cell_type": "code",
   "execution_count": null,
   "metadata": {},
   "outputs": [],
   "source": [
    "#Instalamos la libreria de STREAMLIT\n",
    "%pip install streamlit"
   ]
  },
  {
   "cell_type": "code",
   "execution_count": null,
   "metadata": {},
   "outputs": [],
   "source": [
    "#Instalamos la libreria de PLOTLY\n",
    "%pip install plotly"
   ]
  },
  {
   "cell_type": "code",
   "execution_count": null,
   "metadata": {},
   "outputs": [],
   "source": [
    "#Instalamos librería para análisis de variables categóricas\n",
    "%pip install funpymodeling"
   ]
  },
  {
   "cell_type": "code",
   "execution_count": 8,
   "metadata": {},
   "outputs": [
    {
     "name": "stdout",
     "output_type": "stream",
     "text": [
      "\n",
      "up to date, audited 23 packages in 1s\n",
      "\n",
      "3 packages are looking for funding\n",
      "  run `npm fund` for details\n",
      "\n",
      "2 moderate severity vulnerabilities\n",
      "\n",
      "To address all issues (including breaking changes), run:\n",
      "  npm audit fix --force\n",
      "\n",
      "Run `npm audit` for details.\n"
     ]
    }
   ],
   "source": [
    "#Para instalar npm en visual studio\n",
    "#1.Desde Google escribir node.js\n",
    "#2. Instalar la versión más recomendada\n",
    "! npm install localtunnel"
   ]
  },
  {
   "cell_type": "code",
   "execution_count": 15,
   "metadata": {},
   "outputs": [
    {
     "name": "stdout",
     "output_type": "stream",
     "text": [
      "Overwriting app.py\n"
     ]
    }
   ],
   "source": [
    "%%writefile app.py \n",
    "#Creamos el archivo de la APP en el interprete principal (Phyton)\n",
    "\n",
    "#############################IMPLEMENTACIÓN DE DASHBOARD################################\n",
    "\n",
    "#Importamos librerias\n",
    "import streamlit as st\n",
    "import plotly.express as px\n",
    "import pandas as pd\n",
    "import numpy as np\n",
    "from funpymodeling.exploratory import freq_tbl \n",
    "\n",
    "#################################################################\n",
    "\n",
    "#Definimos la instancia de streamlit\n",
    "@st.cache_resource\n",
    "\n",
    "#################################################################\n",
    "\n",
    "#Creamos la función de carga de datos\n",
    "def load_data():\n",
    "    #Lectura del archivo csv sin indice\n",
    "    df1=pd.read_csv(\"titanic.csv\")\n",
    "    #Carga desde un archivo csv con indice\n",
    "    df2= pd.read_csv(\"titanic.csv\", index_col= 'Name')\n",
    "    \n",
    "#################################################################\n",
    "\n",
    "    #Etapa de procesamiento de Datos\n",
    "   \n",
    "    #ANÁLISIS UNIVARIADO DE FRECUENCIAS\n",
    "    #Obtengo un análisis univariado de una variable categórica en específico\n",
    "    table= freq_tbl(df1['Sex'])\n",
    "    #Obtengo un filtro de los valores más reelevantes de la variables categórica seleccionada\n",
    "    Filtro= table[table['frequency']>1]\n",
    "    #Ajusto el indice de mi dataframe\n",
    "    Filtro_index1= Filtro.set_index('Sex')        \n",
    "    \n",
    "    #Selecciono las columnas tipo numericas del dataframe Filtro_index1\n",
    "    numeric_df1 = Filtro_index1.select_dtypes(['float','int'])  #Devuelve Columnas\n",
    "    numeric_cols1= numeric_df1.columns                          #Devuelve lista de Columnas \n",
    "\n",
    "    #Selecciono las columnas tipo numericas del dataframe df2\n",
    "    numeric_df2 = df2.select_dtypes(['float','int'])  #Devuelve Columnas\n",
    "    numeric_cols2= numeric_df2.columns                #Devuelve lista de Columnas    \n",
    "      \n",
    "\n",
    "    return Filtro_index1, df2, numeric_df1, numeric_cols1, numeric_df2, numeric_cols2 \n",
    "#################################################################\n",
    "\n",
    "#Cargo los datos obtenidos de la función \"load_data\"\n",
    "Filtro_index1, df2, numeric_df1, numeric_cols1, numeric_df2, numeric_cols2 = load_data()\n",
    "\n",
    "######################CREACIÓN DEL DASHBOARD################################\n",
    "\n",
    "#1. CREACIÓN DE LA SIDEBAR\n",
    "#Generamos los encabezados para la barra lateral (sidebar)\n",
    "st.sidebar.title(\"DASHBOARD\")\n",
    "st.sidebar.header(\"Sidebar\")\n",
    "st.sidebar.subheader(\"Panel de selección\")\n",
    "\n",
    "#2. CREACIÓN DE LOS FRAMES\n",
    "#Generamos los Frames que utilizaremos en el diseño\n",
    "#Widget 1: Selectbox\n",
    "#Menu desplegable de opciones de los Frames seleccionados\n",
    "Frames= st.selectbox(label= \"Frames\", options= [\"Frame 1\", \"Frame 2\", \"Frame 3\", \"Frame 4\"])\n",
    "\n",
    "#################################################################\n",
    "\n",
    "#3. CONTENIDO DEL FRAME 1\n",
    "if Frames == \"Frame 1\":\n",
    "    #Generamos los encabezados para el dashboard\n",
    "    st.title(\"TITANIC\")\n",
    "    st.header(\"Frame Principal\")\n",
    "    st.subheader(\"Line Plot\")\n",
    "    \n",
    "    #Widget 2: Checkbox\n",
    "    #Generamos un cuadro de selección (Checkbox) en una barra lateral (sidebar) para mostrar dataset\n",
    "    check_box = st.sidebar.checkbox(label= \"Mostrar Dataset\")\n",
    "    #Condicional para que aparezca el dataframe\n",
    "    if check_box:\n",
    "        #Mostramos el dataset\n",
    "        st.write(Filtro_index1)\n",
    "        st.write(df2)\n",
    "      "
   ]
  }
 ],
 "metadata": {
  "kernelspec": {
   "display_name": "Python 3",
   "language": "python",
   "name": "python3"
  },
  "language_info": {
   "codemirror_mode": {
    "name": "ipython",
    "version": 3
   },
   "file_extension": ".py",
   "mimetype": "text/x-python",
   "name": "python",
   "nbconvert_exporter": "python",
   "pygments_lexer": "ipython3",
   "version": "3.12.4"
  }
 },
 "nbformat": 4,
 "nbformat_minor": 2
}
