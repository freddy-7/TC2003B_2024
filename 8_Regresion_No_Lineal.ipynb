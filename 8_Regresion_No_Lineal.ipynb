{
  "cells": [
    {
      "cell_type": "markdown",
      "metadata": {
        "colab_type": "text",
        "id": "view-in-github"
      },
      "source": [
        "<a href=\"https://colab.research.google.com/github/freddy-7/TI3002C/blob/main/8_Regresion_No_Lineal.ipynb\" target=\"_parent\"><img src=\"https://colab.research.google.com/assets/colab-badge.svg\" alt=\"Open In Colab\"/></a>"
      ]
    },
    {
      "cell_type": "code",
      "execution_count": null,
      "metadata": {},
      "outputs": [],
      "source": [
        "%pip install scipy"
      ]
    },
    {
      "cell_type": "code",
      "execution_count": null,
      "metadata": {},
      "outputs": [],
      "source": [
        "%pip install sklearn"
      ]
    },
    {
      "cell_type": "code",
      "execution_count": 1,
      "metadata": {
        "id": "ybmE8-NEkuJ3"
      },
      "outputs": [],
      "source": [
        "#Cargamos librerias\n",
        "import numpy as np\n",
        "import matplotlib.pyplot as plt\n",
        "import scipy.special as special\n",
        "from scipy.optimize import curve_fit\n",
        "import seaborn as sns\n",
        "from sklearn.metrics import r2_score"
      ]
    },
    {
      "cell_type": "code",
      "execution_count": null,
      "metadata": {
        "id": "sbXQYmpHlKoP"
      },
      "outputs": [],
      "source": [
        "#Cargar archivo csv desde seaborn\n",
        "df=sns.load_dataset(name='car_crashes')\n",
        "df.head(5)"
      ]
    },
    {
      "cell_type": "code",
      "execution_count": null,
      "metadata": {
        "id": "ReRRSAjslNDp"
      },
      "outputs": [],
      "source": [
        "#Graficamos todas las dispersiones entre todas las variables\n",
        "sns.pairplot(df)"
      ]
    },
    {
      "cell_type": "code",
      "execution_count": 5,
      "metadata": {
        "id": "HBjkXQoklTNx"
      },
      "outputs": [],
      "source": [
        "#Declaramos las variables dependientes e independientes para la regresión No lineal\n",
        "Vars_Indep= df[['ins_losses']]\n",
        "Var_Dep= df['total']"
      ]
    },
    {
      "cell_type": "code",
      "execution_count": 6,
      "metadata": {
        "id": "RJrVmqIOlVjk"
      },
      "outputs": [],
      "source": [
        "#Redefinimos las variables \n",
        "x= Vars_Indep\n",
        "y= Var_Dep"
      ]
    },
    {
      "cell_type": "markdown",
      "metadata": {
        "id": "5qfLg3ZhlYyG"
      },
      "source": [
        "   ** Usamos las siguientes ecuaciones como funciones de ajuste.**\n",
        "\n",
        "            y = ax^2 + bx + c   (\"Función cuadrática\")\n",
        "\n",
        "            y = a*exp(bx) + c   (\"Función exponencial\")\n",
        "\n",
        "            y = 1/a*x           (\"Función inversa\")\n",
        "\n",
        "            y = a*np.sin(x) + b (\"Función senoidal\")\n",
        "\n",
        "            y = a*np.tan(x) + b (\"Función tangencial\")\n",
        "\n",
        "            y = a*np.abs(x) + b*x + c (Función Valor absoluto)\n",
        "\n",
        "            y = (a*x**2 + b)/ c*x (Función cociente entre polinomios)\n",
        "\n",
        "            y = a*np.log(x) + b  (Función logaritmica)\n",
        "\n",
        "            y = a*x + b*x + c*x (Función lineal con producto de coeficientes)\n",
        "\n",
        "            y = 1/a*x**2  (Función cuadrática inversa)\n",
        "\n",
        "            y = a/b*x**2 + c*x (Función polinomial inversa)\n",
        "\n",
        "\n",
        "\n"
      ]
    },
    {
      "cell_type": "markdown",
      "metadata": {
        "id": "TQsyjXp8ldFS"
      },
      "source": [
        "**MODELO 1**"
      ]
    },
    {
      "cell_type": "code",
      "execution_count": 7,
      "metadata": {
        "id": "VkroAdDZlal0"
      },
      "outputs": [],
      "source": [
        "def  func1 (x, a, b, c):\n",
        "     return a*x**2 + b*x + c"
      ]
    },
    {
      "cell_type": "code",
      "execution_count": 8,
      "metadata": {
        "id": "_sZhZfGal0LK"
      },
      "outputs": [],
      "source": [
        "#Ajustamos los parámetros de la función curve_fit\n",
        "parametros, covs= curve_fit(func1, df['ins_losses'], df['total'])"
      ]
    },
    {
      "cell_type": "code",
      "execution_count": 9,
      "metadata": {
        "colab": {
          "base_uri": "https://localhost:8080/"
        },
        "id": "bSCce0xSl2Mi",
        "outputId": "338aca6b-142f-4b65-c886-f97e2bc7269a"
      },
      "outputs": [
        {
          "data": {
            "text/plain": [
              "array([ 6.31404246e-04, -1.78288232e-01,  2.79658165e+01])"
            ]
          },
          "execution_count": 9,
          "metadata": {},
          "output_type": "execute_result"
        }
      ],
      "source": [
        "#Obtenemos los coeficientes del modelo de regresión no lineal\n",
        "parametros"
      ]
    },
    {
      "cell_type": "code",
      "execution_count": 11,
      "metadata": {
        "id": "5-LYx1lTmA44"
      },
      "outputs": [],
      "source": [
        "#Creamos el modelo de predicción con los parámetros obtenidos \n",
        "parametros, _ = curve_fit(func1, df['ins_losses'], df['total'])\n",
        "a, b, c = parametros[ 0 ], parametros[ 1 ], parametros[ 2 ]\n",
        "yfit1 = a * x ** 2 + b * x + c"
      ]
    },
    {
      "cell_type": "code",
      "execution_count": 12,
      "metadata": {
        "id": "97P9JO5WmD7I"
      },
      "outputs": [
        {
          "data": {
            "text/html": [
              "<div>\n",
              "<style scoped>\n",
              "    .dataframe tbody tr th:only-of-type {\n",
              "        vertical-align: middle;\n",
              "    }\n",
              "\n",
              "    .dataframe tbody tr th {\n",
              "        vertical-align: top;\n",
              "    }\n",
              "\n",
              "    .dataframe thead th {\n",
              "        text-align: right;\n",
              "    }\n",
              "</style>\n",
              "<table border=\"1\" class=\"dataframe\">\n",
              "  <thead>\n",
              "    <tr style=\"text-align: right;\">\n",
              "      <th></th>\n",
              "      <th>ins_losses</th>\n",
              "    </tr>\n",
              "  </thead>\n",
              "  <tbody>\n",
              "    <tr>\n",
              "      <th>0</th>\n",
              "      <td>15.389687</td>\n",
              "    </tr>\n",
              "    <tr>\n",
              "      <th>1</th>\n",
              "      <td>15.413326</td>\n",
              "    </tr>\n",
              "    <tr>\n",
              "      <th>2</th>\n",
              "      <td>15.980397</td>\n",
              "    </tr>\n",
              "    <tr>\n",
              "      <th>3</th>\n",
              "      <td>15.381021</td>\n",
              "    </tr>\n",
              "    <tr>\n",
              "      <th>4</th>\n",
              "      <td>15.757437</td>\n",
              "    </tr>\n",
              "    <tr>\n",
              "      <th>5</th>\n",
              "      <td>15.381127</td>\n",
              "    </tr>\n",
              "    <tr>\n",
              "      <th>6</th>\n",
              "      <td>15.801567</td>\n",
              "    </tr>\n",
              "    <tr>\n",
              "      <th>7</th>\n",
              "      <td>15.447037</td>\n",
              "    </tr>\n",
              "    <tr>\n",
              "      <th>8</th>\n",
              "      <td>15.396744</td>\n",
              "    </tr>\n",
              "    <tr>\n",
              "      <th>9</th>\n",
              "      <td>15.385770</td>\n",
              "    </tr>\n",
              "    <tr>\n",
              "      <th>10</th>\n",
              "      <td>15.381751</td>\n",
              "    </tr>\n",
              "    <tr>\n",
              "      <th>11</th>\n",
              "      <td>15.639373</td>\n",
              "    </tr>\n",
              "    <tr>\n",
              "      <th>12</th>\n",
              "      <td>17.536045</td>\n",
              "    </tr>\n",
              "    <tr>\n",
              "      <th>13</th>\n",
              "      <td>15.382714</td>\n",
              "    </tr>\n",
              "    <tr>\n",
              "      <th>14</th>\n",
              "      <td>16.037369</td>\n",
              "    </tr>\n",
              "    <tr>\n",
              "      <th>15</th>\n",
              "      <td>15.830693</td>\n",
              "    </tr>\n",
              "    <tr>\n",
              "      <th>16</th>\n",
              "      <td>15.414528</td>\n",
              "    </tr>\n",
              "    <tr>\n",
              "      <th>17</th>\n",
              "      <td>15.390479</td>\n",
              "    </tr>\n",
              "    <tr>\n",
              "      <th>18</th>\n",
              "      <td>17.193837</td>\n",
              "    </tr>\n",
              "    <tr>\n",
              "      <th>19</th>\n",
              "      <td>16.636850</td>\n",
              "    </tr>\n",
              "    <tr>\n",
              "      <th>20</th>\n",
              "      <td>17.055791</td>\n",
              "    </tr>\n",
              "    <tr>\n",
              "      <th>21</th>\n",
              "      <td>15.399578</td>\n",
              "    </tr>\n",
              "    <tr>\n",
              "      <th>22</th>\n",
              "      <td>15.457563</td>\n",
              "    </tr>\n",
              "    <tr>\n",
              "      <th>23</th>\n",
              "      <td>15.418852</td>\n",
              "    </tr>\n",
              "    <tr>\n",
              "      <th>24</th>\n",
              "      <td>15.514436</td>\n",
              "    </tr>\n",
              "    <tr>\n",
              "      <th>25</th>\n",
              "      <td>15.386838</td>\n",
              "    </tr>\n",
              "    <tr>\n",
              "      <th>26</th>\n",
              "      <td>17.362584</td>\n",
              "    </tr>\n",
              "    <tr>\n",
              "      <th>27</th>\n",
              "      <td>15.818963</td>\n",
              "    </tr>\n",
              "    <tr>\n",
              "      <th>28</th>\n",
              "      <td>15.383967</td>\n",
              "    </tr>\n",
              "    <tr>\n",
              "      <th>29</th>\n",
              "      <td>15.657860</td>\n",
              "    </tr>\n",
              "    <tr>\n",
              "      <th>30</th>\n",
              "      <td>15.600098</td>\n",
              "    </tr>\n",
              "    <tr>\n",
              "      <th>31</th>\n",
              "      <td>15.643742</td>\n",
              "    </tr>\n",
              "    <tr>\n",
              "      <th>32</th>\n",
              "      <td>15.429289</td>\n",
              "    </tr>\n",
              "    <tr>\n",
              "      <th>33</th>\n",
              "      <td>15.492867</td>\n",
              "    </tr>\n",
              "    <tr>\n",
              "      <th>34</th>\n",
              "      <td>16.005178</td>\n",
              "    </tr>\n",
              "    <tr>\n",
              "      <th>35</th>\n",
              "      <td>15.417188</td>\n",
              "    </tr>\n",
              "    <tr>\n",
              "      <th>36</th>\n",
              "      <td>16.276373</td>\n",
              "    </tr>\n",
              "    <tr>\n",
              "      <th>37</th>\n",
              "      <td>16.224700</td>\n",
              "    </tr>\n",
              "    <tr>\n",
              "      <th>38</th>\n",
              "      <td>15.481558</td>\n",
              "    </tr>\n",
              "    <tr>\n",
              "      <th>39</th>\n",
              "      <td>15.414642</td>\n",
              "    </tr>\n",
              "    <tr>\n",
              "      <th>40</th>\n",
              "      <td>15.771388</td>\n",
              "    </tr>\n",
              "    <tr>\n",
              "      <th>41</th>\n",
              "      <td>16.620005</td>\n",
              "    </tr>\n",
              "    <tr>\n",
              "      <th>42</th>\n",
              "      <td>15.510778</td>\n",
              "    </tr>\n",
              "    <tr>\n",
              "      <th>43</th>\n",
              "      <td>15.534670</td>\n",
              "    </tr>\n",
              "    <tr>\n",
              "      <th>44</th>\n",
              "      <td>16.014750</td>\n",
              "    </tr>\n",
              "    <tr>\n",
              "      <th>45</th>\n",
              "      <td>16.009556</td>\n",
              "    </tr>\n",
              "    <tr>\n",
              "      <th>46</th>\n",
              "      <td>15.479330</td>\n",
              "    </tr>\n",
              "    <tr>\n",
              "      <th>47</th>\n",
              "      <td>15.931965</td>\n",
              "    </tr>\n",
              "    <tr>\n",
              "      <th>48</th>\n",
              "      <td>15.461816</td>\n",
              "    </tr>\n",
              "    <tr>\n",
              "      <th>49</th>\n",
              "      <td>16.134418</td>\n",
              "    </tr>\n",
              "    <tr>\n",
              "      <th>50</th>\n",
              "      <td>15.611505</td>\n",
              "    </tr>\n",
              "  </tbody>\n",
              "</table>\n",
              "</div>"
            ],
            "text/plain": [
              "    ins_losses\n",
              "0    15.389687\n",
              "1    15.413326\n",
              "2    15.980397\n",
              "3    15.381021\n",
              "4    15.757437\n",
              "5    15.381127\n",
              "6    15.801567\n",
              "7    15.447037\n",
              "8    15.396744\n",
              "9    15.385770\n",
              "10   15.381751\n",
              "11   15.639373\n",
              "12   17.536045\n",
              "13   15.382714\n",
              "14   16.037369\n",
              "15   15.830693\n",
              "16   15.414528\n",
              "17   15.390479\n",
              "18   17.193837\n",
              "19   16.636850\n",
              "20   17.055791\n",
              "21   15.399578\n",
              "22   15.457563\n",
              "23   15.418852\n",
              "24   15.514436\n",
              "25   15.386838\n",
              "26   17.362584\n",
              "27   15.818963\n",
              "28   15.383967\n",
              "29   15.657860\n",
              "30   15.600098\n",
              "31   15.643742\n",
              "32   15.429289\n",
              "33   15.492867\n",
              "34   16.005178\n",
              "35   15.417188\n",
              "36   16.276373\n",
              "37   16.224700\n",
              "38   15.481558\n",
              "39   15.414642\n",
              "40   15.771388\n",
              "41   16.620005\n",
              "42   15.510778\n",
              "43   15.534670\n",
              "44   16.014750\n",
              "45   16.009556\n",
              "46   15.479330\n",
              "47   15.931965\n",
              "48   15.461816\n",
              "49   16.134418\n",
              "50   15.611505"
            ]
          },
          "execution_count": 12,
          "metadata": {},
          "output_type": "execute_result"
        }
      ],
      "source": [
        "#Calculamos las predicciones y reestructuramos el vector de predicciones\n",
        "#x= x.reshape(51, 1)\n",
        "#y = y.reshape(51, 1)\n",
        "#yfit1 = yfit1.reshape(51, 1)\n",
        "yfit1"
      ]
    },
    {
      "cell_type": "code",
      "execution_count": 13,
      "metadata": {
        "id": "bBVTnlR5mD1P"
      },
      "outputs": [
        {
          "data": {
            "image/png": "[encoded data removed]",
            "text/plain": [
              "<Figure size 640x480 with 1 Axes>"
            ]
          },
          "metadata": {},
          "output_type": "display_data"
        }
      ],
      "source": [
        "#Graficamos las predicciones y los datos originales para realizar la comparación\n",
        "plt.plot(x, y, 'bo', label=\"y-original\")\n",
        "plt.plot(x, yfit1, label=\"y=a*x^2+b*x+c\")\n",
        "plt.xlabel('x')\n",
        "plt.ylabel('y')\n",
        "plt.legend(loc='best', fancybox=True, shadow=True)\n",
        "plt.grid(True)\n",
        "plt.show() "
      ]
    },
    {
      "cell_type": "code",
      "execution_count": 14,
      "metadata": {
        "colab": {
          "base_uri": "https://localhost:8080/"
        },
        "id": "-5q6nlnMmPH7",
        "outputId": "e4702f9f-92cf-4369-9036-765d4d13766f"
      },
      "outputs": [
        {
          "data": {
            "text/plain": [
              "0.017528478101237477"
            ]
          },
          "execution_count": 14,
          "metadata": {},
          "output_type": "execute_result"
        }
      ],
      "source": [
        "#Calculamos el coeficiente de determinación del modelo\n",
        "\n",
        "R2 = r2_score(y, yfit1) \n",
        "R2"
      ]
    },
    {
      "cell_type": "markdown",
      "metadata": {
        "id": "bh-K1LHlmzBc"
      },
      "source": [
        "**MODELO 2**"
      ]
    },
    {
      "cell_type": "code",
      "execution_count": 15,
      "metadata": {
        "id": "_vywyaOem1-x"
      },
      "outputs": [],
      "source": [
        "def func2(x, a, b, c):\n",
        "    return a*np.exp(b*x)+c\n",
        "    \n",
        "\n",
        "\n"
      ]
    },
    {
      "cell_type": "code",
      "execution_count": 16,
      "metadata": {
        "id": "f2LCan8bnU6h"
      },
      "outputs": [
        {
          "name": "stderr",
          "output_type": "stream",
          "text": [
            "C:\\Users\\alfre\\AppData\\Local\\Temp\\ipykernel_20584\\2800873776.py:2: OptimizeWarning: Covariance of the parameters could not be estimated\n",
            "  parametros2, covs2= curve_fit(func2, df['ins_losses'], df['total'])\n"
          ]
        }
      ],
      "source": [
        "#Ajustamos los parámetros de la función curve_fit\n",
        "parametros2, covs2= curve_fit(func2, df['ins_losses'], df['total'])"
      ]
    },
    {
      "cell_type": "code",
      "execution_count": 17,
      "metadata": {
        "colab": {
          "base_uri": "https://localhost:8080/"
        },
        "id": "fdYg_tLbncR3",
        "outputId": "c302f835-8e35-4403-f4c1-ef5783ed5784"
      },
      "outputs": [
        {
          "data": {
            "text/plain": [
              "array([1.67134480e-14, 9.99999998e-01, 1.00000000e+00])"
            ]
          },
          "execution_count": 17,
          "metadata": {},
          "output_type": "execute_result"
        }
      ],
      "source": [
        "#Obtenemos los coeficientes del modelo de regresión no lineal\n",
        "parametros2"
      ]
    },
    {
      "cell_type": "code",
      "execution_count": 18,
      "metadata": {
        "id": "66DJEoq_nfED"
      },
      "outputs": [
        {
          "name": "stderr",
          "output_type": "stream",
          "text": [
            "C:\\Users\\alfre\\AppData\\Local\\Temp\\ipykernel_20584\\337478338.py:2: OptimizeWarning: Covariance of the parameters could not be estimated\n",
            "  parametros2, _ = curve_fit(func2, df['ins_losses'], df['total'])\n"
          ]
        }
      ],
      "source": [
        "#Creamos el modelo de predicción con los parámetros obtenidos \n",
        "parametros2, _ = curve_fit(func2, df['ins_losses'], df['total'])\n",
        "a2, b2, c2 = parametros2[ 0 ], parametros2[ 1 ], parametros2[ 2 ]\n",
        "yfit2 = a2*np.exp(x*b2)+c2"
      ]
    },
    {
      "cell_type": "code",
      "execution_count": 19,
      "metadata": {
        "id": "-ktqMJdpnmLS"
      },
      "outputs": [
        {
          "data": {
            "text/html": [
              "<div>\n",
              "<style scoped>\n",
              "    .dataframe tbody tr th:only-of-type {\n",
              "        vertical-align: middle;\n",
              "    }\n",
              "\n",
              "    .dataframe tbody tr th {\n",
              "        vertical-align: top;\n",
              "    }\n",
              "\n",
              "    .dataframe thead th {\n",
              "        text-align: right;\n",
              "    }\n",
              "</style>\n",
              "<table border=\"1\" class=\"dataframe\">\n",
              "  <thead>\n",
              "    <tr style=\"text-align: right;\">\n",
              "      <th></th>\n",
              "      <th>ins_losses</th>\n",
              "    </tr>\n",
              "  </thead>\n",
              "  <tbody>\n",
              "    <tr>\n",
              "      <th>0</th>\n",
              "      <td>1.700237e+49</td>\n",
              "    </tr>\n",
              "    <tr>\n",
              "      <th>1</th>\n",
              "      <td>2.444139e+44</td>\n",
              "    </tr>\n",
              "    <tr>\n",
              "      <th>2</th>\n",
              "      <td>1.404307e+34</td>\n",
              "    </tr>\n",
              "    <tr>\n",
              "      <th>3</th>\n",
              "      <td>1.154137e+48</td>\n",
              "    </tr>\n",
              "    <tr>\n",
              "      <th>4</th>\n",
              "      <td>1.429753e+58</td>\n",
              "    </tr>\n",
              "    <tr>\n",
              "      <th>5</th>\n",
              "      <td>9.665112e+46</td>\n",
              "    </tr>\n",
              "    <tr>\n",
              "      <th>6</th>\n",
              "      <td>5.740243e+58</td>\n",
              "    </tr>\n",
              "    <tr>\n",
              "      <th>7</th>\n",
              "      <td>1.023279e+52</td>\n",
              "    </tr>\n",
              "    <tr>\n",
              "      <th>8</th>\n",
              "      <td>2.036246e+45</td>\n",
              "    </tr>\n",
              "    <tr>\n",
              "      <th>9</th>\n",
              "      <td>6.912646e+48</td>\n",
              "    </tr>\n",
              "    <tr>\n",
              "      <th>10</th>\n",
              "      <td>1.739074e+48</td>\n",
              "    </tr>\n",
              "    <tr>\n",
              "      <th>11</th>\n",
              "      <td>5.469589e+38</td>\n",
              "    </tr>\n",
              "    <tr>\n",
              "      <th>12</th>\n",
              "      <td>1.448553e+22</td>\n",
              "    </tr>\n",
              "    <tr>\n",
              "      <th>13</th>\n",
              "      <td>4.520048e+46</td>\n",
              "    </tr>\n",
              "    <tr>\n",
              "      <th>14</th>\n",
              "      <td>3.360632e+33</td>\n",
              "    </tr>\n",
              "    <tr>\n",
              "      <th>15</th>\n",
              "      <td>8.644807e+35</td>\n",
              "    </tr>\n",
              "    <tr>\n",
              "      <th>16</th>\n",
              "      <td>2.146187e+44</td>\n",
              "    </tr>\n",
              "    <tr>\n",
              "      <th>17</th>\n",
              "      <td>5.996091e+45</td>\n",
              "    </tr>\n",
              "    <tr>\n",
              "      <th>18</th>\n",
              "      <td>6.530480e+70</td>\n",
              "    </tr>\n",
              "    <tr>\n",
              "      <th>19</th>\n",
              "      <td>1.455071e+28</td>\n",
              "    </tr>\n",
              "    <tr>\n",
              "      <th>20</th>\n",
              "      <td>8.158542e+69</td>\n",
              "    </tr>\n",
              "    <tr>\n",
              "      <th>21</th>\n",
              "      <td>1.337909e+45</td>\n",
              "    </tr>\n",
              "    <tr>\n",
              "      <th>22</th>\n",
              "      <td>2.232255e+52</td>\n",
              "    </tr>\n",
              "    <tr>\n",
              "      <th>23</th>\n",
              "      <td>1.368469e+44</td>\n",
              "    </tr>\n",
              "    <tr>\n",
              "      <th>24</th>\n",
              "      <td>7.466505e+53</td>\n",
              "    </tr>\n",
              "    <tr>\n",
              "      <th>25</th>\n",
              "      <td>9.055321e+48</td>\n",
              "    </tr>\n",
              "    <tr>\n",
              "      <th>26</th>\n",
              "      <td>1.596765e+23</td>\n",
              "    </tr>\n",
              "    <tr>\n",
              "      <th>27</th>\n",
              "      <td>1.226757e+36</td>\n",
              "    </tr>\n",
              "    <tr>\n",
              "      <th>28</th>\n",
              "      <td>2.911076e+46</td>\n",
              "    </tr>\n",
              "    <tr>\n",
              "      <th>29</th>\n",
              "      <td>2.689092e+38</td>\n",
              "    </tr>\n",
              "    <tr>\n",
              "      <th>30</th>\n",
              "      <td>4.416099e+55</td>\n",
              "    </tr>\n",
              "    <tr>\n",
              "      <th>31</th>\n",
              "      <td>4.614500e+38</td>\n",
              "    </tr>\n",
              "    <tr>\n",
              "      <th>32</th>\n",
              "      <td>2.352779e+51</td>\n",
              "    </tr>\n",
              "    <tr>\n",
              "      <th>33</th>\n",
              "      <td>5.427335e+41</td>\n",
              "    </tr>\n",
              "    <tr>\n",
              "      <th>34</th>\n",
              "      <td>7.479224e+33</td>\n",
              "    </tr>\n",
              "    <tr>\n",
              "      <th>35</th>\n",
              "      <td>1.622053e+44</td>\n",
              "    </tr>\n",
              "    <tr>\n",
              "      <th>36</th>\n",
              "      <td>7.961171e+63</td>\n",
              "    </tr>\n",
              "    <tr>\n",
              "      <th>37</th>\n",
              "      <td>4.514521e+31</td>\n",
              "    </tr>\n",
              "    <tr>\n",
              "      <th>38</th>\n",
              "      <td>1.105643e+53</td>\n",
              "    </tr>\n",
              "    <tr>\n",
              "      <th>39</th>\n",
              "      <td>5.630410e+50</td>\n",
              "    </tr>\n",
              "    <tr>\n",
              "      <th>40</th>\n",
              "      <td>5.335452e+36</td>\n",
              "    </tr>\n",
              "    <tr>\n",
              "      <th>41</th>\n",
              "      <td>1.964140e+28</td>\n",
              "    </tr>\n",
              "    <tr>\n",
              "      <th>42</th>\n",
              "      <td>6.113057e+53</td>\n",
              "    </tr>\n",
              "    <tr>\n",
              "      <th>43</th>\n",
              "      <td>2.155110e+54</td>\n",
              "    </tr>\n",
              "    <tr>\n",
              "      <th>44</th>\n",
              "      <td>5.883366e+33</td>\n",
              "    </tr>\n",
              "    <tr>\n",
              "      <th>45</th>\n",
              "      <td>6.700144e+33</td>\n",
              "    </tr>\n",
              "    <tr>\n",
              "      <th>46</th>\n",
              "      <td>9.611998e+52</td>\n",
              "    </tr>\n",
              "    <tr>\n",
              "      <th>47</th>\n",
              "      <td>5.000530e+34</td>\n",
              "    </tr>\n",
              "    <tr>\n",
              "      <th>48</th>\n",
              "      <td>3.013229e+52</td>\n",
              "    </tr>\n",
              "    <tr>\n",
              "      <th>49</th>\n",
              "      <td>3.369331e+32</td>\n",
              "    </tr>\n",
              "    <tr>\n",
              "      <th>50</th>\n",
              "      <td>1.676349e+39</td>\n",
              "    </tr>\n",
              "  </tbody>\n",
              "</table>\n",
              "</div>"
            ],
            "text/plain": [
              "      ins_losses\n",
              "0   1.700237e+49\n",
              "1   2.444139e+44\n",
              "2   1.404307e+34\n",
              "3   1.154137e+48\n",
              "4   1.429753e+58\n",
              "5   9.665112e+46\n",
              "6   5.740243e+58\n",
              "7   1.023279e+52\n",
              "8   2.036246e+45\n",
              "9   6.912646e+48\n",
              "10  1.739074e+48\n",
              "11  5.469589e+38\n",
              "12  1.448553e+22\n",
              "13  4.520048e+46\n",
              "14  3.360632e+33\n",
              "15  8.644807e+35\n",
              "16  2.146187e+44\n",
              "17  5.996091e+45\n",
              "18  6.530480e+70\n",
              "19  1.455071e+28\n",
              "20  8.158542e+69\n",
              "21  1.337909e+45\n",
              "22  2.232255e+52\n",
              "23  1.368469e+44\n",
              "24  7.466505e+53\n",
              "25  9.055321e+48\n",
              "26  1.596765e+23\n",
              "27  1.226757e+36\n",
              "28  2.911076e+46\n",
              "29  2.689092e+38\n",
              "30  4.416099e+55\n",
              "31  4.614500e+38\n",
              "32  2.352779e+51\n",
              "33  5.427335e+41\n",
              "34  7.479224e+33\n",
              "35  1.622053e+44\n",
              "36  7.961171e+63\n",
              "37  4.514521e+31\n",
              "38  1.105643e+53\n",
              "39  5.630410e+50\n",
              "40  5.335452e+36\n",
              "41  1.964140e+28\n",
              "42  6.113057e+53\n",
              "43  2.155110e+54\n",
              "44  5.883366e+33\n",
              "45  6.700144e+33\n",
              "46  9.611998e+52\n",
              "47  5.000530e+34\n",
              "48  3.013229e+52\n",
              "49  3.369331e+32\n",
              "50  1.676349e+39"
            ]
          },
          "execution_count": 19,
          "metadata": {},
          "output_type": "execute_result"
        }
      ],
      "source": [
        "#Calculamos las predicciones y reestructuramos el vector de predicciones\n",
        "#yfit2 = yfit2.reshape(51, 1)\n",
        "yfit2"
      ]
    },
    {
      "cell_type": "code",
      "execution_count": 20,
      "metadata": {
        "id": "1KkN4nMWnot7"
      },
      "outputs": [
        {
          "data": {
            "image/png": "[encoded data removed]",
            "text/plain": [
              "<Figure size 640x480 with 1 Axes>"
            ]
          },
          "metadata": {},
          "output_type": "display_data"
        }
      ],
      "source": [
        "#Graficamos las predicciones y los datos originales para realizar la comparación\n",
        "plt.plot(x, y, 'bo', label=\"y-original\")\n",
        "plt.plot(x, yfit2, label=\"a*exp(x*b)+c\")\n",
        "plt.xlabel('x')\n",
        "plt.ylabel('y')\n",
        "plt.legend(loc='best', fancybox=True, shadow=True)\n",
        "plt.grid(True)\n",
        "plt.show() "
      ]
    },
    {
      "cell_type": "code",
      "execution_count": 21,
      "metadata": {
        "colab": {
          "base_uri": "https://localhost:8080/"
        },
        "id": "1LeZWBMJnsJX",
        "outputId": "7a816a7f-7284-4da3-8ea7-da4e332b00d0"
      },
      "outputs": [
        {
          "data": {
            "text/plain": [
              "-5.09834981244113e+138"
            ]
          },
          "execution_count": 21,
          "metadata": {},
          "output_type": "execute_result"
        }
      ],
      "source": [
        "#Calculamos el coeficiente de determinación del modelo\n",
        "R2 = r2_score(y, yfit2) \n",
        "R2"
      ]
    }
  ],
  "metadata": {
    "colab": {
      "authorship_tag": "ABX9TyPtxCgl8oa2BhVSJpxlz/G8",
      "include_colab_link": true,
      "provenance": []
    },
    "kernelspec": {
      "display_name": "Python 3",
      "name": "python3"
    },
    "language_info": {
      "codemirror_mode": {
        "name": "ipython",
        "version": 3
      },
      "file_extension": ".py",
      "mimetype": "text/x-python",
      "name": "python",
      "nbconvert_exporter": "python",
      "pygments_lexer": "ipython3",
      "version": "3.12.4"
    }
  },
  "nbformat": 4,
  "nbformat_minor": 0
}
